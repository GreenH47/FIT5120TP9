{
 "cells": [
  {
   "cell_type": "code",
   "execution_count": 7,
   "metadata": {},
   "outputs": [
    {
     "ename": "ValueError",
     "evalue": "could not convert string to float: ''",
     "output_type": "error",
     "traceback": [
      "\u001B[1;31m---------------------------------------------------------------------------\u001B[0m",
      "\u001B[1;31mValueError\u001B[0m                                Traceback (most recent call last)",
      "\u001B[1;32m~\\AppData\\Local\\Temp\\ipykernel_16740\\4102449939.py\u001B[0m in \u001B[0;36m<module>\u001B[1;34m\u001B[0m\n\u001B[0;32m     47\u001B[0m \u001B[1;33m\u001B[0m\u001B[0m\n\u001B[0;32m     48\u001B[0m \u001B[1;32mif\u001B[0m \u001B[0m__name__\u001B[0m \u001B[1;33m==\u001B[0m \u001B[1;34m'__main__'\u001B[0m\u001B[1;33m:\u001B[0m\u001B[1;33m\u001B[0m\u001B[1;33m\u001B[0m\u001B[0m\n\u001B[1;32m---> 49\u001B[1;33m     \u001B[0menter_point\u001B[0m\u001B[1;33m(\u001B[0m\u001B[1;33m)\u001B[0m\u001B[1;33m\u001B[0m\u001B[1;33m\u001B[0m\u001B[0m\n\u001B[0m",
      "\u001B[1;32m~\\AppData\\Local\\Temp\\ipykernel_16740\\4102449939.py\u001B[0m in \u001B[0;36menter_point\u001B[1;34m()\u001B[0m\n\u001B[0;32m     43\u001B[0m     \u001B[0mlongitudes\u001B[0m \u001B[1;33m=\u001B[0m \u001B[0minput\u001B[0m\u001B[1;33m(\u001B[0m\u001B[1;34m\"Enter longitudes: \"\u001B[0m\u001B[1;33m)\u001B[0m\u001B[1;33m\u001B[0m\u001B[1;33m\u001B[0m\u001B[0m\n\u001B[0;32m     44\u001B[0m     \u001B[0mlatitudes\u001B[0m \u001B[1;33m=\u001B[0m \u001B[0minput\u001B[0m\u001B[1;33m(\u001B[0m\u001B[1;34m\"Enter latitudes: \"\u001B[0m\u001B[1;33m)\u001B[0m\u001B[1;33m\u001B[0m\u001B[1;33m\u001B[0m\u001B[0m\n\u001B[1;32m---> 45\u001B[1;33m     \u001B[0mpoint\u001B[0m \u001B[1;33m=\u001B[0m \u001B[0mPoint\u001B[0m\u001B[1;33m(\u001B[0m\u001B[0mfloat\u001B[0m\u001B[1;33m(\u001B[0m\u001B[0mlongitudes\u001B[0m\u001B[1;33m)\u001B[0m\u001B[1;33m,\u001B[0m \u001B[0mfloat\u001B[0m\u001B[1;33m(\u001B[0m\u001B[0mlatitudes\u001B[0m\u001B[1;33m)\u001B[0m\u001B[1;33m)\u001B[0m\u001B[1;33m\u001B[0m\u001B[1;33m\u001B[0m\u001B[0m\n\u001B[0m\u001B[0;32m     46\u001B[0m     \u001B[0mfind_point\u001B[0m\u001B[1;33m(\u001B[0m\u001B[0mpoint\u001B[0m\u001B[1;33m)\u001B[0m\u001B[1;33m\u001B[0m\u001B[1;33m\u001B[0m\u001B[0m\n\u001B[0;32m     47\u001B[0m \u001B[1;33m\u001B[0m\u001B[0m\n",
      "\u001B[1;31mValueError\u001B[0m: could not convert string to float: ''"
     ]
    }
   ],
   "source": [
    "import json\n",
    "import matplotlib.pyplot as plt\n",
    "from shapely.geometry import Point, Polygon\n",
    "\n",
    "def find_point(point):\n",
    "    # Load the JSON data from a file\n",
    "    with open('kingston.json', 'r') as json_file:\n",
    "        data = json.load(json_file)\n",
    "\n",
    "    # Access the JSON properties\n",
    "    print(\"Type:\", data[\"type\"])\n",
    "    print(\"Name:\", data[\"name\"])\n",
    "\n",
    "    # Access the features\n",
    "    features = data[\"features\"]\n",
    "    # for feature in features:\n",
    "    #     print(\"\\nFeature:\")\n",
    "    #     print(\"Geometry Type:\", feature[\"geometry\"][\"type\"])\n",
    "    #     print(\"Coordinates:\", feature[\"geometry\"][\"coordinates\"])\n",
    "    #     print(\"Properties:\", feature[\"properties\"])\n",
    "\n",
    "    coordinates = []\n",
    "    print(\"there are %d collection date in this council\" % len(features))\n",
    "    # Extract the coordinates\n",
    "    for i in range(len(features)):\n",
    "        coordinate = data[\"features\"][0][\"geometry\"][\"coordinates\"][0]  # Assuming you want the first feature's coordinates\n",
    "        coordinates.append(coordinate)\n",
    "\n",
    "\n",
    "    # Split the coordinates into latitude and longitude\n",
    "    latitudes, longitudes = zip(*coordinates[0])\n",
    "\n",
    "    # Plot the polygon\n",
    "    plt.plot(longitudes, latitudes)\n",
    "    plt.xlabel('Longitude')\n",
    "    plt.ylabel('Latitude')\n",
    "    plt.title('Polygon from JSON Data')\n",
    "    plt.gca().invert_yaxis()  # Invert the Y-axis to match a typical map\n",
    "    plt.grid(True)\n",
    "    plt.show()\n",
    "\n",
    "def enter_point():\n",
    "    longitudes = input(\"Enter longitudes: \")\n",
    "    latitudes = input(\"Enter latitudes: \")\n",
    "    point = Point(float(longitudes), float(latitudes))\n",
    "    find_point(point)\n",
    "\n",
    "if __name__ == '__main__':\n",
    "    enter_point()\n"
   ]
  }
 ],
 "metadata": {
  "kernelspec": {
   "display_name": "base",
   "language": "python",
   "name": "python3"
  },
  "language_info": {
   "codemirror_mode": {
    "name": "ipython",
    "version": 3
   },
   "file_extension": ".py",
   "mimetype": "text/x-python",
   "name": "python",
   "nbconvert_exporter": "python",
   "pygments_lexer": "ipython3",
   "version": "3.9.13"
  },
  "orig_nbformat": 4
 },
 "nbformat": 4,
 "nbformat_minor": 2
}
