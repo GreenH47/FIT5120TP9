{
 "cells": [
  {
   "cell_type": "code",
   "execution_count": 2,
   "metadata": {},
   "outputs": [
    {
     "name": "stdout",
     "output_type": "stream",
     "text": [
      "  locality_name  postcode          council_name\n",
      "0      Abbeyard      3737  Alpine Shire Council\n",
      "1     Barwidgee      3737  Alpine Shire Council\n",
      "2        Bogong      3699  Alpine Shire Council\n",
      "3        Bright      3741  Alpine Shire Council\n",
      "4      Buckland      3740  Alpine Shire Council\n"
     ]
    }
   ],
   "source": [
    "import pandas as pd\n",
    "\n",
    "# read postcode data\n",
    "df = pd.read_csv('postcode_council.csv', encoding='utf-8')\n",
    "print(df.head())"
   ]
  },
  {
   "cell_type": "code",
   "execution_count": 4,
   "metadata": {},
   "outputs": [
    {
     "name": "stdout",
     "output_type": "stream",
     "text": [
      "True\n"
     ]
    }
   ],
   "source": [
    "# check if postcode column is unique or not\n",
    "print(df['postcode'].is_unique)\n",
    "# if not unique, drop duplicates\n",
    "df = df.drop_duplicates(subset='postcode', keep='first')\n",
    "df\n",
    "# save to postcode.csv\n",
    "df.to_csv('postcode.csv', index=False, encoding='utf-8')"
   ]
  }
 ],
 "metadata": {
  "kernelspec": {
   "display_name": "base",
   "language": "python",
   "name": "python3"
  },
  "language_info": {
   "codemirror_mode": {
    "name": "ipython",
    "version": 3
   },
   "file_extension": ".py",
   "mimetype": "text/x-python",
   "name": "python",
   "nbconvert_exporter": "python",
   "pygments_lexer": "ipython3",
   "version": "3.9.13"
  },
  "orig_nbformat": 4
 },
 "nbformat": 4,
 "nbformat_minor": 2
}
